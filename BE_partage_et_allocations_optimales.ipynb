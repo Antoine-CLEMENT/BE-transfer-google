{
 "cells": [
  {
   "cell_type": "markdown",
   "metadata": {},
   "source": [
    "\n",
    "# Partages et allocations équitables\n"
   ]
  },
  {
   "cell_type": "markdown",
   "metadata": {},
   "source": [
    "<div class=\"alert alert-info\", class=\"lead\" font-size: 22px>\n",
    "<font size=\"3\">\n",
    "Cette première partie appliquée à l'exemple de la question 3 permet de comprendre l'algorithme que nous utilisons :\n",
    "</font>\n",
    "</div>"
   ]
  },
  {
   "cell_type": "markdown",
   "metadata": {},
   "source": [
    "#### La librairie utilisée est facile, qui est compatible avec python 3.7 au maximum"
   ]
  },
  {
   "cell_type": "code",
   "execution_count": 1,
   "metadata": {},
   "outputs": [],
   "source": [
    "#!pip install facile"
   ]
  },
  {
   "cell_type": "code",
   "execution_count": 5,
   "metadata": {},
   "outputs": [],
   "source": [
    "import facile\n",
    "import numpy as np\n",
    "from utils import solver\n",
    "\n",
    "# each variable is a boolean to know if agent [x, y] does the task [1, 2, 3]\n",
    "x1 = facile.variable([0,1])\n",
    "x2 = facile.variable([0,1])\n",
    "x3 = facile.variable([0,1])\n",
    "\n",
    "y1 = facile.variable([0,1])\n",
    "y2 = facile.variable([0,1])\n",
    "y3 = facile.variable([0,1])\n",
    "\n",
    "who_do_what = [x1, x2, x3, y1, y2, y3]\n",
    "\n",
    "# Every task must be complete, by only one agent !\n",
    "facile.constraint(x1 + y1 == 1)\n",
    "facile.constraint(x2 + y2 == 1)\n",
    "facile.constraint(x3 + y3 == 1)\n",
    "\n",
    "#this represent the cost for each task by agent\n",
    "c_a = [6, 3, 1]\n",
    "c_b = [1, 2, 1]\n",
    "\n",
    "#this array contains the TOTAL cost for each agent ( how_does_it_cost[i] is the total cost for the i_th agent )\n",
    "how_does_it_cost = facile.array([ np.matmul(c_a, facile.array([x1, x2, x3])), np.matmul(c_b, facile.array([y1, y2, y3]))])\n"
   ]
  },
  {
   "cell_type": "code",
   "execution_count": 3,
   "metadata": {},
   "outputs": [
    {
     "name": "stdout",
     "output_type": "stream",
     "text": [
      "1 does :  ['c']\n",
      "2 does :  ['a' 'b']\n"
     ]
    }
   ],
   "source": [
    "weights = np.array([1, 1])\n",
    "weights = np.array([0, 1])\n",
    "#We only have the .sort() method, so we must inverse the order of gini's weights\n",
    "weights = np.array([1, 3])\n",
    "\n",
    "to_minimize = np.matmul(weights, how_does_it_cost.sort())\n",
    "\n",
    "#We finaly call the optimizer with our minimizer\n",
    "res = np.array(facile.minimize(who_do_what, to_minimize).solution)\n",
    "boolean_res = res > 0\n",
    "\n",
    "tasks = np.array([['a', 'b', 'c']])\n",
    "\n",
    "print('1 does : ', tasks[:,boolean_res[0:3]][0])\n",
    "print('2 does : ', tasks[:,boolean_res[3:6]][0])"
   ]
  },
  {
   "cell_type": "markdown",
   "metadata": {},
   "source": [
    "<div class=\"alert alert-info\", class=\"lead\" font-size: 22px>\n",
    "<font size=\"3\">\n",
    "La fonction solver ci-dessous est un wrapper qui reprend les mêmes principes de résolution que ceux ci-dessus, mais permet de s'adapter à n'importe quelle taille de problème.\n",
    "</font>\n",
    "</div>"
   ]
  },
  {
   "cell_type": "code",
   "execution_count": 4,
   "metadata": {},
   "outputs": [
    {
     "name": "stdout",
     "output_type": "stream",
     "text": [
      "1  does :  ['e' 'h' 'j']\n",
      "2  does :  ['a']\n",
      "3  does :  ['b' 'i']\n",
      "4  does :  ['d' 'f' 'g']\n",
      "5  does :  ['c']\n"
     ]
    }
   ],
   "source": [
    "costs = [[6, 3, 1], \n",
    "         [1, 2, 1]]\n",
    "\n",
    "costs =[[8, 14, 12, 13, 5, 9, 3, 8, 15, 2],\n",
    "        [15, 18, 12, 17, 17, 12, 16, 12, 10, 18],\n",
    "        [10, 9, 11, 13, 10, 9, 15, 11, 9, 13],\n",
    "        [20, 20, 14, 10, 10, 2, 4, 12, 7, 16],\n",
    "        [20, 20, 15, 18, 20, 18, 17, 17, 15, 16]]\n",
    "\n",
    "#OWA must be on of ['utilitarism', 'egalitarism', 'gini']\n",
    "solver(np.array(costs), 'egalitarism')"
   ]
  }
 ],
 "metadata": {
  "kernelspec": {
   "display_name": "Python 3",
   "language": "python",
   "name": "python3"
  },
  "language_info": {
   "codemirror_mode": {
    "name": "ipython",
    "version": 3
   },
   "file_extension": ".py",
   "mimetype": "text/x-python",
   "name": "python",
   "nbconvert_exporter": "python",
   "pygments_lexer": "ipython3",
   "version": "3.7.9"
  }
 },
 "nbformat": 4,
 "nbformat_minor": 4
}
